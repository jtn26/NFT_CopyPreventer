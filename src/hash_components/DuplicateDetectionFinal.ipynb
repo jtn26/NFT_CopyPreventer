{
  "nbformat": 4,
  "nbformat_minor": 0,
  "metadata": {
    "colab": {
      "name": "DuplicateDetectionFinal.ipynb",
      "provenance": [],
      "collapsed_sections": [
        "icTeWc3sWaST",
        "n-RDV-oF8RUC",
        "31gZ-iS0xyvv"
      ],
      "machine_shape": "hm"
    },
    "kernelspec": {
      "name": "python3",
      "display_name": "Python 3"
    },
    "language_info": {
      "name": "python"
    }
  },
  "cells": [
    {
      "cell_type": "markdown",
      "source": [
        "# **Setup**"
      ],
      "metadata": {
        "id": "K4JaImoqTdUh"
      }
    },
    {
      "cell_type": "markdown",
      "source": [
        "Install dependencies"
      ],
      "metadata": {
        "id": "QIjCrc3VuUun"
      }
    },
    {
      "cell_type": "code",
      "execution_count": null,
      "metadata": {
        "id": "PflwIMH7sWCG"
      },
      "outputs": [],
      "source": [
        "# Database imports\n",
        "from itertools import islice\n",
        "from sortedcontainers import SortedDict\n",
        "\n",
        "from __future__ import (absolute_import, division, print_function)\n",
        "\n",
        "# Image imports\n",
        "import os\n",
        "from PIL import Image, ImageFilter\n",
        "\n",
        "# Model prediction imports\n",
        "import numpy as np\n",
        "import math\n"
      ]
    },
    {
      "cell_type": "markdown",
      "source": [
        "Upload dataset"
      ],
      "metadata": {
        "id": "DYtuT1KDCjZl"
      }
    },
    {
      "cell_type": "code",
      "source": [
        "from google.colab import drive\n",
        "drive.mount('/content/drive')\n",
        "\n",
        "# You will need the BAYCArchive.zip in your google drive\n",
        "# This will unzip it and put it in the colab files\n",
        "!unzip -uq \"/content/drive/My Drive/BAYC/BAYCArchive.zip\" -d \"/content/BAYC\""
      ],
      "metadata": {
        "colab": {
          "base_uri": "https://localhost:8080/"
        },
        "id": "A99177ztCihi",
        "outputId": "1597d605-35ef-43aa-ccaf-d6c33777ce3b"
      },
      "execution_count": null,
      "outputs": [
        {
          "output_type": "stream",
          "name": "stdout",
          "text": [
            "Mounted at /content/drive\n"
          ]
        }
      ]
    },
    {
      "cell_type": "markdown",
      "source": [
        "Iterate through the dataset and create an image array"
      ],
      "metadata": {
        "id": "9GOOHR7NRoBY"
      }
    },
    {
      "cell_type": "code",
      "source": [
        "from os import listdir\n",
        "\n",
        "folder_dir = \"/content/BAYC/bayc\"\n",
        "temp = folder_dir[:] + '/'"
      ],
      "metadata": {
        "id": "o4WF_0i0T5TS"
      },
      "execution_count": null,
      "outputs": []
    },
    {
      "cell_type": "code",
      "source": [
        "imgArr = []\n",
        "stringArr = []\n",
        "\n",
        "for image in os.listdir(folder_dir):\n",
        "  dir = temp + str(image)\n",
        "  if (dir == '/content/BAYC/bayc/hashes.csv'): #skip the csv file\n",
        "    continue\n",
        "  # print(dir) it actually works lfg\n",
        "  image = Image.open(dir)\n",
        "  # display(image) this also works lfg\n",
        "  imgArr.append(image)\n",
        "  stringArr.append(dir)"
      ],
      "metadata": {
        "id": "7qLWEEWpRmn0"
      },
      "execution_count": null,
      "outputs": []
    },
    {
      "cell_type": "markdown",
      "source": [
        "Unpickle the machine learning model"
      ],
      "metadata": {
        "id": "GcfXtfL6Lccr"
      }
    },
    {
      "cell_type": "code",
      "source": [
        "import pickle"
      ],
      "metadata": {
        "id": "i2R-h9ONLrLM"
      },
      "execution_count": null,
      "outputs": []
    },
    {
      "cell_type": "markdown",
      "metadata": {
        "id": "BBS7LAOmLhmu"
      },
      "source": [
        "The main functions of `pickle` are:\n",
        "\n",
        "* `dump()`: pickles data by accepting data and a file object.\n",
        "* `load()`: takes a file object, reconstruct the objects from the pickled representation, and returns it.\n",
        "* `dumps()`: returns the pickled data as a string.\n",
        "* `loads()`: reads the pickled data from a string.\n",
        "\n",
        "`dump()`/`load()` serializes/deserializes objects through files but `dumps()`/`loads()` serializes/deserializes objects through string representation."
      ]
    },
    {
      "cell_type": "code",
      "source": [
        "with open('/content/model (2).pkl', 'rb') as fid:\n",
        "     model = pickle.load(fid)"
      ],
      "metadata": {
        "id": "_7tv6vQZL2ho"
      },
      "execution_count": null,
      "outputs": []
    },
    {
      "cell_type": "markdown",
      "source": [
        "# **Hashing**"
      ],
      "metadata": {
        "id": "icTeWc3sWaST"
      }
    },
    {
      "cell_type": "markdown",
      "source": [
        "Install dependencies\n",
        "- Pillow (general image enhancement package for python)\n",
        "- Image (a module from pillow that allows for image hashing)"
      ],
      "metadata": {
        "id": "O26xAkxdZgQd"
      }
    },
    {
      "cell_type": "code",
      "source": [
        "def _binary_array_to_hex(arr):\n",
        "\t\"\"\"\n",
        "\tinternal function to make a hex string out of a binary array.\n",
        "\t\"\"\"\n",
        "\tbit_string = ''.join(str(b) for b in 1 * arr.flatten())\n",
        "\twidth = int(numpy.ceil(len(bit_string)/4))\n",
        "\treturn '{:0>{width}x}'.format(int(bit_string, 2), width=width)\n",
        "\n",
        "\n",
        "class ImageHash(object):\n",
        "\t\"\"\"\n",
        "\tHash encapsulation. Can be used for dictionary keys and comparisons.\n",
        "\t\"\"\"\n",
        "\tdef __init__(self, binary_array):\n",
        "\t\tself.hash = binary_array\n",
        "\n",
        "\tdef __str__(self):\n",
        "\t\treturn _binary_array_to_hex(self.hash.flatten())\n",
        "\n",
        "\tdef __repr__(self):\n",
        "\t\treturn repr(self.hash)\n",
        "\n",
        "\tdef __sub__(self, other):\n",
        "\t\tif other is None:\n",
        "\t\t\traise TypeError('Other hash must not be None.')\n",
        "\t\tif self.hash.size != other.hash.size:\n",
        "\t\t\traise TypeError('ImageHashes must be of the same shape.', self.hash.shape, other.hash.shape)\n",
        "\t\treturn numpy.count_nonzero(self.hash.flatten() != other.hash.flatten())\n",
        "\n",
        "\tdef __eq__(self, other):\n",
        "\t\tif other is None:\n",
        "\t\t\treturn False\n",
        "\t\treturn numpy.array_equal(self.hash.flatten(), other.hash.flatten())\n",
        "\n",
        "\tdef __ne__(self, other):\n",
        "\t\tif other is None:\n",
        "\t\t\treturn False\n",
        "\t\treturn not numpy.array_equal(self.hash.flatten(), other.hash.flatten())\n",
        "\n",
        "\tdef __hash__(self):\n",
        "\t\t# this returns a 8 bit integer, intentionally shortening the information\n",
        "\t\treturn sum([2**(i % 8) for i, v in enumerate(self.hash.flatten()) if v])\n",
        "\n",
        "\tdef __len__(self):\n",
        "\t\t# Returns the bit length of the hash\n",
        "\t\treturn self.hash.size\n",
        "\n",
        "\n",
        "\n",
        "def phash(image, hash_size=8, highfreq_factor=4):\n",
        "\t\"\"\"\n",
        "\tPerceptual Hash computation.\n",
        "\tImplementation follows http://www.hackerfactor.com/blog/index.php?/archives/432-Looks-Like-It.html\n",
        "\t@image must be a PIL instance.\n",
        "\t\"\"\"\n",
        "\tif hash_size < 2:\n",
        "\t\traise ValueError(\"Hash size must be greater than or equal to 2\")\n",
        "\n",
        "\timport scipy.fftpack\n",
        "\timg_size = hash_size * highfreq_factor\n",
        "\timage = image.convert(\"L\").resize((img_size, img_size), Image.ANTIALIAS)\n",
        "\tpixels = numpy.asarray(image)\n",
        "\tdct = scipy.fftpack.dct(scipy.fftpack.dct(pixels, axis=0), axis=1)\n",
        "\tdctlowfreq = dct[:hash_size, :hash_size]\n",
        "\tmed = numpy.median(dctlowfreq)\n",
        "\tdiff = dctlowfreq > med\n",
        "\treturn ImageHash(diff)\n"
      ],
      "metadata": {
        "id": "Yt1cBTjxWd66"
      },
      "execution_count": null,
      "outputs": []
    },
    {
      "cell_type": "code",
      "source": [
        "\"\"\"\n",
        "Copyright (c) 2013-2020, Johannes Buchner\n",
        "https://github.com/JohannesBuchner/imagehash\n",
        "All rights reserved.\n",
        "\"\"\""
      ],
      "metadata": {
        "colab": {
          "base_uri": "https://localhost:8080/",
          "height": 36
        },
        "id": "RoTr7leZaODJ",
        "outputId": "afbf80b0-d5be-41ab-ff0a-4f6782b9c6d6"
      },
      "execution_count": null,
      "outputs": [
        {
          "output_type": "execute_result",
          "data": {
            "text/plain": [
              "'\\nCopyright (c) 2013-2020, Johannes Buchner\\nhttps://github.com/JohannesBuchner/imagehash\\nAll rights reserved.\\n'"
            ],
            "application/vnd.google.colaboratory.intrinsic+json": {
              "type": "string"
            }
          },
          "metadata": {},
          "execution_count": 8
        }
      ]
    },
    {
      "cell_type": "markdown",
      "source": [
        "# **Clean, Hash, and Image Conversion**"
      ],
      "metadata": {
        "id": "n-RDV-oF8RUC"
      }
    },
    {
      "cell_type": "code",
      "source": [
        "from __future__ import (absolute_import, division, print_function)\n",
        "\n",
        "import tensorflow as tf\n",
        "import os\n",
        "\n",
        "from PIL import Image, ImageFilter\n",
        "import numpy"
      ],
      "metadata": {
        "id": "md1Bg44hx-tt"
      },
      "execution_count": null,
      "outputs": []
    },
    {
      "cell_type": "code",
      "source": [
        "def cleanAndHash(image, height, width):\n",
        "  hash = str(phash(image))\n",
        "  image = image.convert(\"L\").resize((height, width))\n",
        "  return image, hash"
      ],
      "metadata": {
        "id": "dU9G58Xi8lMy"
      },
      "execution_count": null,
      "outputs": []
    },
    {
      "cell_type": "markdown",
      "source": [
        "# **DB Functions**"
      ],
      "metadata": {
        "id": "31gZ-iS0xyvv"
      }
    },
    {
      "cell_type": "code",
      "source": [
        "def closest(sorted_dict, key):\n",
        "    \"Return closest key in `sorted_dict` to given `key`.\"\n",
        "    assert len(sorted_dict) > 0\n",
        "    keys = list(islice(sorted_dict.irange(minimum=key), 1))\n",
        "    keys.extend(islice(sorted_dict.irange(maximum=key, reverse=True), 1))\n",
        "    return min(keys, key=lambda k: abs(key - k))\n",
        "\n",
        "def hashToKey(hash):\n",
        "  \"Convert a hex string to a key that can be used in a hashmap\"\n",
        "  hash = str(hash)\n",
        "  hash = hash[3:]\n",
        "  key = int(hash, 16)\n",
        "  return key\n",
        "\n",
        "def createDB(images, addresses):\n",
        "  \"Index through a list of images, clean and hash each image,\"\n",
        "  \"Add each image and its hash to the database\"\n",
        "  db = SortedDict()\n",
        "  i = 0\n",
        "  for image in images:\n",
        "    image, hashList = cleanAndHash(image, 80, 80)\n",
        "    key = hashToKey(hashList)\n",
        "    try:\n",
        "      db[key]\n",
        "      db[key] += [addresses[i]]\n",
        "    except:\n",
        "      db[key] = [addresses[i]]\n",
        "    i += 1\n",
        "  return db\n",
        "\n",
        "def getClosestImage(image, db):\n",
        "  image, hashList = cleanAndHash(image, 80, 80)\n",
        "  hash = hashToKey(hashList)\n",
        "  try:\n",
        "    db[hash]\n",
        "    return db[hash]\n",
        "  except:\n",
        "    return db[closest(db, hash)]"
      ],
      "metadata": {
        "id": "Jx5ESOONtHbb"
      },
      "execution_count": null,
      "outputs": []
    },
    {
      "cell_type": "markdown",
      "source": [
        "# **ML Model Functions**"
      ],
      "metadata": {
        "id": "iOIAHtHdOc7f"
      }
    },
    {
      "cell_type": "code",
      "source": [
        "def mlpredict(imgAddress):\n",
        "  img = tf.keras.utils.load_img(\n",
        "    imgAddress, target_size=(631, 631)\n",
        "  )\n",
        "  img_array = tf.keras.utils.img_to_array(img)\n",
        "  img_array = tf.expand_dims(img_array, 0)\n",
        "\n",
        "  predictions = model.predict(img_array)\n",
        "  score = tf.nn.softmax(predictions[0])\n",
        "  maxInd = 0\n",
        "  max = -1\n",
        "  ind = 0\n",
        "  for sco in score:\n",
        "    if sco > max:\n",
        "      max = sco\n",
        "      maxInd = ind\n",
        "    ind += 1\n",
        "\n",
        "  classes = [\"Azuki\", \"Bored Ape\", \"CloneX\", \"CryptoPunk\", \"MoonBird\"]\n",
        "  if classes[maxInd] != \"Bored Ape\":\n",
        "    return \"None\"\n",
        "  return classes[maxInd]"
      ],
      "metadata": {
        "id": "Frxxqth4Om7j"
      },
      "execution_count": null,
      "outputs": []
    },
    {
      "cell_type": "markdown",
      "source": [
        "Finding the mean, highest, lowest standard deviation of a collection of images"
      ],
      "metadata": {
        "id": "lpjc3RE11brx"
      }
    },
    {
      "cell_type": "markdown",
      "source": [
        "# **Duplicate Detection**"
      ],
      "metadata": {
        "id": "eZSOqZDtZuig"
      }
    },
    {
      "cell_type": "code",
      "source": [
        "from tensorflow.python.platform.tf_logging import info\n",
        "# Takes in an image addres (Ex: '/content/Military_7050.png') and returns the\n",
        "# original Bored Ape, if there is one\n",
        "\n",
        "def getDuplicate(imageAddr, database):\n",
        "  className = mlpredict(imageAddr)\n",
        "  if className == \"None\":\n",
        "    print(\"This image is not a Bored Ape\")\n",
        "    return \n",
        "  img = Image.open(imageAddr)\n",
        "  duplicates = getClosestImage(img, database)\n",
        "  if len(duplicates) == 1:\n",
        "    print(\"The input image is a derivative of the following Bored Ape:\")\n",
        "  else:\n",
        "    print(\"The input image is a derivative of one of the following Bored Apes:\")\n",
        "  for image in duplicates:\n",
        "    display(Image.open(image).resize((200,200)))\n",
        "  return \n"
      ],
      "metadata": {
        "id": "NeePSiTvZzBE"
      },
      "execution_count": null,
      "outputs": []
    },
    {
      "cell_type": "markdown",
      "source": [
        "# **Create Bored Ape Database**"
      ],
      "metadata": {
        "id": "fAJmagryZSAb"
      }
    },
    {
      "cell_type": "code",
      "source": [
        "fullDB = createDB(imgArr, stringArr)"
      ],
      "metadata": {
        "id": "OTvHOyC9vx_0"
      },
      "execution_count": null,
      "outputs": []
    },
    {
      "cell_type": "markdown",
      "source": [
        "# **Tests**"
      ],
      "metadata": {
        "id": "v3ONWEV72gXh"
      }
    },
    {
      "cell_type": "code",
      "source": [
        "imgAddr = '/content/Military.png'\n",
        "img = Image.open(imgAddr).resize((200,200))\n",
        "display(img)\n",
        "getDuplicate(imgAddr, fullDB)"
      ],
      "metadata": {
        "colab": {
          "base_uri": "https://localhost:8080/",
          "height": 434
        },
        "id": "Dzw1V-5P05-H",
        "outputId": "0ccbfe28-00fd-4050-e198-a0dc21924c6d"
      },
      "execution_count": null,
      "outputs": [
        {
          "output_type": "display_data",
          "data": {
            "text/plain": [
              "<PIL.Image.Image image mode=RGBA size=200x200 at 0x7FD7677689D0>"
            ],
            "image/png": "[encoded data removed]"
          },
          "metadata": {}
        },
        {
          "output_type": "stream",
          "name": "stdout",
          "text": [
            "The input image is a derivative of the following Bored Ape:\n"
          ]
        },
        {
          "output_type": "display_data",
          "data": {
            "text/plain": [
              "<PIL.Image.Image image mode=RGBA size=200x200 at 0x7FD76714EA50>"
            ],
            "image/png": "[encoded data removed]"
          },
          "metadata": {}
        }
      ]
    }
  ]
}